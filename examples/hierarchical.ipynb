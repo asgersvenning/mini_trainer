{
 "cells": [
  {
   "cell_type": "markdown",
   "id": "730e5b6d",
   "metadata": {},
   "source": [
    "### Hierarchical classification training demo\n",
    "Based on my previous work.\n",
    "TODO: Switch to Guillaume's"
   ]
  },
  {
   "cell_type": "code",
   "execution_count": 32,
   "id": "ee60605f",
   "metadata": {},
   "outputs": [],
   "source": [
    "from urllib.request import urlretrieve\n",
    "from urllib.parse import urljoin\n",
    "\n",
    "from tempfile import NamedTemporaryFile\n",
    "\n",
    "from tqdm.notebook import tqdm as TQDM\n",
    "\n",
    "repo = \"https://anon.erda.au.dk/share_redirect/btK3WIh4Md/rebalanced75_without_larvae/\"\n",
    "\n",
    "with NamedTemporaryFile(suffix = \"txt\") as tmpfile:\n",
    "    urlretrieve(\n",
    "        urljoin(repo, \"folder_index.txt\"),\n",
    "        tmpfile.name\n",
    "    )\n",
    "    with open(tmpfile.name, \"r\") as f:\n",
    "        file_index = [line.strip() for line in f.readlines()]\n"
   ]
  },
  {
   "cell_type": "markdown",
   "id": "8a23a40c",
   "metadata": {},
   "source": [
    "### Extract the class hierarchy from the directory structure"
   ]
  },
  {
   "cell_type": "code",
   "execution_count": 33,
   "id": "6a8879c4",
   "metadata": {},
   "outputs": [
    {
     "data": {
      "application/vnd.jupyter.widget-view+json": {
       "model_id": "ae246e7eef27458a81b13d4a28eb4610",
       "version_major": 2,
       "version_minor": 0
      },
      "text/plain": [
       "Finding unique classes...:   0%|          | 0/1405516 [00:00<?, ?it/s]"
      ]
     },
     "metadata": {},
     "output_type": "display_data"
    }
   ],
   "source": [
    "hierarchy = sorted(filter(lambda x : len(x) == 3, set(tuple(path.split(\"/\")[:-1]) for path in TQDM(file_index, desc=\"Finding unique classes...\"))))"
   ]
  },
  {
   "cell_type": "markdown",
   "id": "f9d633d2",
   "metadata": {},
   "source": [
    "Count the number of images per class (species)"
   ]
  },
  {
   "cell_type": "code",
   "execution_count": 34,
   "id": "da56183b",
   "metadata": {},
   "outputs": [
    {
     "data": {
      "application/vnd.jupyter.widget-view+json": {
       "model_id": "74697db917984863b1ffa7bf113a21d6",
       "version_major": 2,
       "version_minor": 0
      },
      "text/plain": [
       "Counting images per class...:   0%|          | 0/1405516 [00:00<?, ?it/s]"
      ]
     },
     "metadata": {},
     "output_type": "display_data"
    }
   ],
   "source": [
    "from collections import defaultdict\n",
    "\n",
    "counts = defaultdict(lambda : 0)\n",
    "\n",
    "for path in TQDM(file_index, desc=\"Counting images per class...\"):\n",
    "    path_from_root = tuple(path.split(\"/\")[:-1])\n",
    "    if path_from_root in hierarchy:\n",
    "        counts[path_from_root] += 1"
   ]
  },
  {
   "cell_type": "markdown",
   "id": "222b1b0c",
   "metadata": {},
   "source": [
    "Filter species with less than 1000 images, and select 200 training images and 25 test images"
   ]
  },
  {
   "cell_type": "code",
   "execution_count": 35,
   "id": "bfae3381",
   "metadata": {},
   "outputs": [
    {
     "name": "stdout",
     "output_type": "stream",
     "text": [
      "Number of classes with more than 1000 images: 420\n",
      "Number of total images for selected classes: 1174143\n"
     ]
    },
    {
     "data": {
      "application/vnd.jupyter.widget-view+json": {
       "model_id": "47563714983b43fda2c532a32a61e693",
       "version_major": 2,
       "version_minor": 0
      },
      "text/plain": [
       "Allocating train/test images...:   0%|          | 0/1405516 [00:00<?, ?it/s]"
      ]
     },
     "metadata": {},
     "output_type": "display_data"
    },
    {
     "name": "stdout",
     "output_type": "stream",
     "text": [
      "Number of training images: 84000\n",
      "Number of test images: 10500\n"
     ]
    }
   ],
   "source": [
    "more_than_1000 = set(cls for cls in hierarchy if counts[cls] >= 1000)\n",
    "print(f'Number of classes with more than 1000 images: {len(more_than_1000)}')\n",
    "print(f'Number of total images for selected classes: {sum(counts[cls] for cls in more_than_1000)}')\n",
    "train_counts, test_counts = defaultdict(lambda : 0), defaultdict(lambda : 0)\n",
    "train_images, test_images = [], []\n",
    "for path in TQDM(file_index, desc=\"Allocating train/test images...\"):\n",
    "    path_from_root = tuple(path.split(\"/\")[:-1])\n",
    "    if not (path_from_root in more_than_1000):\n",
    "        continue\n",
    "    if train_counts[path_from_root] < 200:\n",
    "        train_counts[path_from_root] += 1\n",
    "        train_images.append(path)\n",
    "    elif test_counts[path_from_root] < 25:\n",
    "        test_counts[path_from_root] += 1\n",
    "        test_images.append(path)\n",
    "print(f'Number of training images: {len(train_images)}')\n",
    "print(f'Number of test images: {len(test_images)}')"
   ]
  },
  {
   "cell_type": "markdown",
   "id": "016273bb",
   "metadata": {},
   "source": [
    "### Download train/test images"
   ]
  },
  {
   "cell_type": "code",
   "execution_count": 43,
   "id": "d7e8bc88",
   "metadata": {},
   "outputs": [
    {
     "data": {
      "application/vnd.jupyter.widget-view+json": {
       "model_id": "fa209213aa4140afbd75403eb774944c",
       "version_major": 2,
       "version_minor": 0
      },
      "text/plain": [
       "Downloading test images...:   0%|          | 0/10500 [00:00<?, ?it/s]"
      ]
     },
     "metadata": {},
     "output_type": "display_data"
    },
    {
     "ename": "KeyboardInterrupt",
     "evalue": "",
     "output_type": "error",
     "traceback": [
      "\u001b[31m---------------------------------------------------------------------------\u001b[39m",
      "\u001b[31mKeyboardInterrupt\u001b[39m                         Traceback (most recent call last)",
      "\u001b[36mCell\u001b[39m\u001b[36m \u001b[39m\u001b[32mIn[43]\u001b[39m\u001b[32m, line 12\u001b[39m\n\u001b[32m     10\u001b[39m     lpath = os.path.join(test_dir, path)\n\u001b[32m     11\u001b[39m     os.makedirs(os.path.dirname(lpath), exist_ok=\u001b[38;5;28;01mTrue\u001b[39;00m)\n\u001b[32m---> \u001b[39m\u001b[32m12\u001b[39m     \u001b[43murlretrieve\u001b[49m\u001b[43m(\u001b[49m\n\u001b[32m     13\u001b[39m \u001b[43m        \u001b[49m\u001b[43murljoin\u001b[49m\u001b[43m(\u001b[49m\u001b[43mrepo\u001b[49m\u001b[43m,\u001b[49m\u001b[43m \u001b[49m\u001b[43mpath\u001b[49m\u001b[43m)\u001b[49m\u001b[43m,\u001b[49m\n\u001b[32m     14\u001b[39m \u001b[43m        \u001b[49m\u001b[43mlpath\u001b[49m\n\u001b[32m     15\u001b[39m \u001b[43m    \u001b[49m\u001b[43m)\u001b[49m\n\u001b[32m     17\u001b[39m \u001b[38;5;28;01mfor\u001b[39;00m path \u001b[38;5;129;01min\u001b[39;00m TQDM(train_images, desc=\u001b[33m\"\u001b[39m\u001b[33mDownloading train images...\u001b[39m\u001b[33m\"\u001b[39m):\n\u001b[32m     18\u001b[39m     lpath = os.path.join(train_dir, path)\n",
      "\u001b[36mFile \u001b[39m\u001b[32m~/micromamba/envs/mini_trainer/lib/python3.12/urllib/request.py:268\u001b[39m, in \u001b[36murlretrieve\u001b[39m\u001b[34m(url, filename, reporthook, data)\u001b[39m\n\u001b[32m    265\u001b[39m \u001b[38;5;28;01mif\u001b[39;00m reporthook:\n\u001b[32m    266\u001b[39m     reporthook(blocknum, bs, size)\n\u001b[32m--> \u001b[39m\u001b[32m268\u001b[39m \u001b[38;5;28;01mwhile\u001b[39;00m block := \u001b[43mfp\u001b[49m\u001b[43m.\u001b[49m\u001b[43mread\u001b[49m\u001b[43m(\u001b[49m\u001b[43mbs\u001b[49m\u001b[43m)\u001b[49m:\n\u001b[32m    269\u001b[39m     read += \u001b[38;5;28mlen\u001b[39m(block)\n\u001b[32m    270\u001b[39m     tfp.write(block)\n",
      "\u001b[36mFile \u001b[39m\u001b[32m~/micromamba/envs/mini_trainer/lib/python3.12/http/client.py:479\u001b[39m, in \u001b[36mHTTPResponse.read\u001b[39m\u001b[34m(self, amt)\u001b[39m\n\u001b[32m    476\u001b[39m \u001b[38;5;28;01mif\u001b[39;00m \u001b[38;5;28mself\u001b[39m.length \u001b[38;5;129;01mis\u001b[39;00m \u001b[38;5;129;01mnot\u001b[39;00m \u001b[38;5;28;01mNone\u001b[39;00m \u001b[38;5;129;01mand\u001b[39;00m amt > \u001b[38;5;28mself\u001b[39m.length:\n\u001b[32m    477\u001b[39m     \u001b[38;5;66;03m# clip the read to the \"end of response\"\u001b[39;00m\n\u001b[32m    478\u001b[39m     amt = \u001b[38;5;28mself\u001b[39m.length\n\u001b[32m--> \u001b[39m\u001b[32m479\u001b[39m s = \u001b[38;5;28;43mself\u001b[39;49m\u001b[43m.\u001b[49m\u001b[43mfp\u001b[49m\u001b[43m.\u001b[49m\u001b[43mread\u001b[49m\u001b[43m(\u001b[49m\u001b[43mamt\u001b[49m\u001b[43m)\u001b[49m\n\u001b[32m    480\u001b[39m \u001b[38;5;28;01mif\u001b[39;00m \u001b[38;5;129;01mnot\u001b[39;00m s \u001b[38;5;129;01mand\u001b[39;00m amt:\n\u001b[32m    481\u001b[39m     \u001b[38;5;66;03m# Ideally, we would raise IncompleteRead if the content-length\u001b[39;00m\n\u001b[32m    482\u001b[39m     \u001b[38;5;66;03m# wasn't satisfied, but it might break compatibility.\u001b[39;00m\n\u001b[32m    483\u001b[39m     \u001b[38;5;28mself\u001b[39m._close_conn()\n",
      "\u001b[36mFile \u001b[39m\u001b[32m~/micromamba/envs/mini_trainer/lib/python3.12/socket.py:720\u001b[39m, in \u001b[36mSocketIO.readinto\u001b[39m\u001b[34m(self, b)\u001b[39m\n\u001b[32m    718\u001b[39m \u001b[38;5;28;01mwhile\u001b[39;00m \u001b[38;5;28;01mTrue\u001b[39;00m:\n\u001b[32m    719\u001b[39m     \u001b[38;5;28;01mtry\u001b[39;00m:\n\u001b[32m--> \u001b[39m\u001b[32m720\u001b[39m         \u001b[38;5;28;01mreturn\u001b[39;00m \u001b[38;5;28;43mself\u001b[39;49m\u001b[43m.\u001b[49m\u001b[43m_sock\u001b[49m\u001b[43m.\u001b[49m\u001b[43mrecv_into\u001b[49m\u001b[43m(\u001b[49m\u001b[43mb\u001b[49m\u001b[43m)\u001b[49m\n\u001b[32m    721\u001b[39m     \u001b[38;5;28;01mexcept\u001b[39;00m timeout:\n\u001b[32m    722\u001b[39m         \u001b[38;5;28mself\u001b[39m._timeout_occurred = \u001b[38;5;28;01mTrue\u001b[39;00m\n",
      "\u001b[36mFile \u001b[39m\u001b[32m~/micromamba/envs/mini_trainer/lib/python3.12/ssl.py:1251\u001b[39m, in \u001b[36mSSLSocket.recv_into\u001b[39m\u001b[34m(self, buffer, nbytes, flags)\u001b[39m\n\u001b[32m   1247\u001b[39m     \u001b[38;5;28;01mif\u001b[39;00m flags != \u001b[32m0\u001b[39m:\n\u001b[32m   1248\u001b[39m         \u001b[38;5;28;01mraise\u001b[39;00m \u001b[38;5;167;01mValueError\u001b[39;00m(\n\u001b[32m   1249\u001b[39m           \u001b[33m\"\u001b[39m\u001b[33mnon-zero flags not allowed in calls to recv_into() on \u001b[39m\u001b[38;5;132;01m%s\u001b[39;00m\u001b[33m\"\u001b[39m %\n\u001b[32m   1250\u001b[39m           \u001b[38;5;28mself\u001b[39m.\u001b[34m__class__\u001b[39m)\n\u001b[32m-> \u001b[39m\u001b[32m1251\u001b[39m     \u001b[38;5;28;01mreturn\u001b[39;00m \u001b[38;5;28;43mself\u001b[39;49m\u001b[43m.\u001b[49m\u001b[43mread\u001b[49m\u001b[43m(\u001b[49m\u001b[43mnbytes\u001b[49m\u001b[43m,\u001b[49m\u001b[43m \u001b[49m\u001b[43mbuffer\u001b[49m\u001b[43m)\u001b[49m\n\u001b[32m   1252\u001b[39m \u001b[38;5;28;01melse\u001b[39;00m:\n\u001b[32m   1253\u001b[39m     \u001b[38;5;28;01mreturn\u001b[39;00m \u001b[38;5;28msuper\u001b[39m().recv_into(buffer, nbytes, flags)\n",
      "\u001b[36mFile \u001b[39m\u001b[32m~/micromamba/envs/mini_trainer/lib/python3.12/ssl.py:1103\u001b[39m, in \u001b[36mSSLSocket.read\u001b[39m\u001b[34m(self, len, buffer)\u001b[39m\n\u001b[32m   1101\u001b[39m \u001b[38;5;28;01mtry\u001b[39;00m:\n\u001b[32m   1102\u001b[39m     \u001b[38;5;28;01mif\u001b[39;00m buffer \u001b[38;5;129;01mis\u001b[39;00m \u001b[38;5;129;01mnot\u001b[39;00m \u001b[38;5;28;01mNone\u001b[39;00m:\n\u001b[32m-> \u001b[39m\u001b[32m1103\u001b[39m         \u001b[38;5;28;01mreturn\u001b[39;00m \u001b[38;5;28;43mself\u001b[39;49m\u001b[43m.\u001b[49m\u001b[43m_sslobj\u001b[49m\u001b[43m.\u001b[49m\u001b[43mread\u001b[49m\u001b[43m(\u001b[49m\u001b[38;5;28;43mlen\u001b[39;49m\u001b[43m,\u001b[49m\u001b[43m \u001b[49m\u001b[43mbuffer\u001b[49m\u001b[43m)\u001b[49m\n\u001b[32m   1104\u001b[39m     \u001b[38;5;28;01melse\u001b[39;00m:\n\u001b[32m   1105\u001b[39m         \u001b[38;5;28;01mreturn\u001b[39;00m \u001b[38;5;28mself\u001b[39m._sslobj.read(\u001b[38;5;28mlen\u001b[39m)\n",
      "\u001b[31mKeyboardInterrupt\u001b[39m: "
     ]
    }
   ],
   "source": [
    "import os\n",
    "\n",
    "train_dir = os.path.join(\"hierarchical\", \"train\")\n",
    "test_dir = os.path.join(\"hierarchical\", \"test\")\n",
    "\n",
    "os.makedirs(train_dir, exist_ok=True)\n",
    "os.makedirs(test_dir, exist_ok=True)\n",
    "\n",
    "for path in TQDM(test_images, desc=\"Downloading test images...\"):\n",
    "    lpath = os.path.join(test_dir, path)\n",
    "    os.makedirs(os.path.dirname(lpath), exist_ok=True)\n",
    "    urlretrieve(\n",
    "        urljoin(repo, path),\n",
    "        lpath\n",
    "    )\n",
    "\n",
    "for path in TQDM(train_images, desc=\"Downloading train images...\"):\n",
    "    lpath = os.path.join(train_dir, path)\n",
    "    os.makedirs(os.path.dirname(lpath), exist_ok=True)\n",
    "    urlretrieve(\n",
    "        urljoin(repo, path),\n",
    "        lpath\n",
    "    )"
   ]
  }
 ],
 "metadata": {
  "kernelspec": {
   "display_name": "mini_trainer",
   "language": "python",
   "name": "python3"
  },
  "language_info": {
   "codemirror_mode": {
    "name": "ipython",
    "version": 3
   },
   "file_extension": ".py",
   "mimetype": "text/x-python",
   "name": "python",
   "nbconvert_exporter": "python",
   "pygments_lexer": "ipython3",
   "version": "3.12.9"
  }
 },
 "nbformat": 4,
 "nbformat_minor": 5
}
